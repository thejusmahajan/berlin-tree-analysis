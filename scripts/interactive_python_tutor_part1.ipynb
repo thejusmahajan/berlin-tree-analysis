{
 "cells": [
  {
   "cell_type": "markdown",
   "metadata": {},
   "source": [
    "# Interactive Python Tutor - Part 1: Introduction and Data Loading\n",
    "\n",
    "Welcome to your interactive Python learning tool! In this series, we'll explore a real-world dataset of trees in the Steglitz-Zehlendorf district of Berlin.\n",
    "\n",
    "We will learn how to:\n",
    "1.  **Load data** from a CSV file using the `pandas` library.\n",
    "2.  **Explore** the basic properties of the dataset.\n",
    "3.  **Prepare data** for analysis and visualization.\n",
    "4.  **Create insightful plots** using `matplotlib` and `seaborn`.\n",
    "\n",
    "Let's get started!"
   ]
  },
  {
   "cell_type": "markdown",
   "metadata": {},
   "source": [
    "## Step 1: Importing Libraries\n",
    "\n",
    "First, we need to import the necessary Python libraries. These are powerful toolkits that provide ready-to-use functions for data analysis and plotting.\n",
    "\n",
    "-   `pandas`: The ultimate tool for working with tabular data (like spreadsheets).\n",
    "-   `matplotlib` & `seaborn`: The most popular libraries for creating charts and graphs in Python."
   ]
  },
  {
   "cell_type": "code",
   "execution_count": null,
   "metadata": {},
   "outputs": [],
   "source": [
    "import pandas as pd\n",
    "import seaborn as sns\n",
    "import matplotlib.pyplot as plt\n",
    "\n",
    "print(\"Libraries imported successfully!\")"
   ]
  },
  {
   "cell_type": "markdown",
   "metadata": {},
   "source": [
    "## Step 2: Loading the Data\n",
    "\n",
    "Now, let's load our dataset. The data is in a file called `2025_trees_steglitz.csv`. Since it's a CSV (Comma-Separated Values) file, `pandas` has a specific function for it: `pd.read_csv()`.\n",
    "\n",
    "**Important Note:** This dataset uses semicolons (`;`) instead of commas to separate the values. We need to tell `pandas` about this by using the `sep=';'` argument."
   ]
  },
  {
   "cell_type": "code",
   "execution_count": null,
   "metadata": {},
   "outputs": [],
   "source": [
    "# Define the file path\n",
    "file_path = '2025_trees_steglitz.csv'\n",
    "\n",
    "try:\n",
    "    # Use sep=';' because the file is semicolon-separated.\n",
    "    trees_df = pd.read_csv(file_path, sep=';')\n",
    "    print(\"Data loaded successfully! We've stored it in a DataFrame called 'trees_df'.\")\n",
    "except FileNotFoundError:\n",
    "    print(f\"Error: The file '{file_path}' was not found.\")\n",
    "    print(\"Please make sure your data file and this notebook are in the same folder.\")"
   ]
  },
  {
   "cell_type": "markdown",
   "metadata": {},
   "source": [
    "## Step 3: First Look at the Data\n",
    "\n",
    "The data is now loaded into a `pandas` **DataFrame**, which is like a smart spreadsheet. Let's inspect the first few rows to understand its structure. We can do this with the `.head()` method."
   ]
  },
  {
   "cell_type": "code",
   "execution_count": null,
   "metadata": {},
   "outputs": [],
   "source": [
    "# Display the first 5 rows of the DataFrame\n",
    "trees_df.head()"
   ]
  },
  {
   "cell_type": "markdown",
   "metadata": {},
   "source": [
    "### **Question 1:**\n",
    "\n",
    "Based on the output above, what is the column name for the tree's species and the year it was planted?"
   ]
  },
  {
   "cell_type": "markdown",
   "metadata": {},
   "source": [
    "**Your Answer (Double-click to edit):**\n",
    "\n",
    "* Tree Species Column: \n",
    "* Planting Year Column: "
   ]
  },
  {
   "cell_type": "markdown",
   "metadata": {},
   "source": [
    "## Step 4: Check Data Information\n",
    "\n",
    "The `.info()` method gives us a summary of the DataFrame, including the data type of each column and whether there are any missing values."
   ]
  },
  {
   "cell_type": "code",
   "execution_count": null,
   "metadata": {},
   "outputs": [],
   "source": [
    "trees_df.info()"
   ]
  },
  {
   "cell_type": "markdown",
   "metadata": {},
   "source": [
    "### **Question 2:**\n",
    "\n",
    "Look at the output of `.info()`. How many total entries (rows) are in this dataset? Which column has a different data type than the others?"
   ]
  },
  {
   "cell_type": "markdown",
   "metadata": {},
   "source": [
    "**Your Answer (Double-click to edit):**\n",
    "\n",
    "* Total Entries: \n",
    "* Column with different type: "
   ]
  },
  {
   "cell_type": "markdown",
   "metadata": {},
   "source": [
    "## End of Part 1\n",
    "\n",
    "Great work! You have successfully loaded the dataset and performed a basic inspection.\n",
    "\n",
    "**In the next part, we will start visualizing the data by creating our first bar chart!**"
   ]
  }
 ],
 "metadata": {
  "kernelspec": {
   "display_name": "Python 3",
   "language": "python",
   "name": "python3"
  },
  "language_info": {
   "codemirror_mode": {
    "name": "ipython",
    "version": 3
   },
   "file_extension": ".py",
   "mimetype": "text/x-python",
   "name": "python",
   "nbconvert_exporter": "python",
   "pygments_lexer": "ipython3",
   "version": "3.9.7"
  }
 },
 "nbformat": 4,
 "nbformat_minor": 2
}

