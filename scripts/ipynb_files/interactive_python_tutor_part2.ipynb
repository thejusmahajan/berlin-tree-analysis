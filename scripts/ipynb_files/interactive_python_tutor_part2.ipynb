{
 "cells": [
  {
   "cell_type": "markdown",
   "metadata": {},
   "source": [
    "# Interactive Python Tutor - Part 2: Your First Bar Chart\n",
    "\n",
    "Welcome to Part 2! Now that we have our data loaded, let's create a visualization to answer a simple question: **What are the most common tree species in this dataset?**\n",
    "\n",
    "A bar chart is the perfect tool for this. Let's get started."
   ]
  },
  {
   "cell_type": "markdown",
   "metadata": {},
   "source": [
    "## Step 1: Load and Prepare Data (Recap)\n",
    "\n",
    "First, let's run the code from Part 1 again to make sure our libraries and data are loaded."
   ]
  },
  {
   "cell_type": "code",
   "execution_count": null,
   "metadata": {},
   "outputs": [],
   "source": [
    "import pandas as pd\n",
    "import seaborn as sns\n",
    "import matplotlib.pyplot as plt\n",
    "\n",
    "# Load the data again\n",
    "file_path = '2025_trees_steglitz.csv'\n",
    "trees_df = pd.read_csv(file_path, sep=';')"
   ]
  },
  {
   "cell_type": "markdown",
   "metadata": {},
   "source": [
    "## Step 2: Counting the Tree Species\n",
    "\n",
    "To find the most common species, we need to count how many times each unique species appears in the `baumart` column.\n",
    "\n",
    "Pandas makes this easy with the `.value_counts()` method. We can then use `.nlargest(10)` to get just the top 10."
   ]
  },
  {
   "cell_type": "code",
   "execution_count": null,
   "metadata": {},
   "outputs": [],
   "source": [
    "# Get the top 10 species using value_counts()\n",
    "top_10_species = trees_df['baumart'].value_counts().nlargest(10)\n",
    "\n",
    "# Print the result to see what it looks like\n",
    "print(top_10_species)"
   ]
  },
  {
   "cell_type": "markdown",
   "metadata": {},
   "source": [
    "## Step 3: Creating the Plot\n",
    "\n",
    "Now that we have the data for the top 10 species, we can create the bar chart. We'll use the `seaborn` library, which makes beautiful plots with very little code.\n",
    "\n",
    "Here's a breakdown of the code:\n",
    "1.  `plt.figure(figsize=(12, 7))`: This creates a blank canvas for our plot and sets its size.\n",
    "2.  `sns.barplot(x=top_10_species.values, y=top_10_species.index, palette='viridis')`: This is the main function that creates the bar chart.\n",
    "    * `x=top_10_species.values`: The counts (the numbers) will be on the x-axis (horizontal).\n",
    "    * `y=top_10_species.index`: The species names will be on the y-axis (vertical).\n",
    "    * `palette='viridis'`: This just applies a nice color scheme.\n",
    "3.  `plt.title(...)`, `plt.xlabel(...)`, `plt.ylabel(...)`: These functions set the title and labels for our axes.\n",
    "4.  `plt.show()`: This function displays the plot we've created."
   ]
  },
  {
   "cell_type": "code",
   "execution_count": null,
   "metadata": {},
   "outputs": [],
   "source": [
    "# Set the figure size for the plot\n",
    "plt.figure(figsize=(12, 7))\n",
    "\n",
    "# Create the bar plot\n",
    "sns.barplot(x=top_10_species.values, y=top_10_species.index, palette='viridis')\n",
    "\n",
    "# Add a title and labels for clarity\n",
    "plt.title('Top 10 Most Common Tree Species', fontsize=16)\n",
    "plt.xlabel('Number of Trees', fontsize=12)\n",
    "plt.ylabel('Tree Species', fontsize=12)\n",
    "\n",
    "# Display the plot\n",
    "plt.show()"
   ]
  },
  {
   "cell_type": "markdown",
   "metadata": {},
   "source": [
    "### **Question 1:**\n",
    "According to the bar chart, which tree species is the most common?"
   ]
  },
  {
   "cell_type": "markdown",
   "metadata": {},
   "source": [
    "**Your Answer (Double-click to edit):**\n",
    "\n",
    "* Most Common Species: "
   ]
  },
  {
   "cell_type": "markdown",
   "metadata": {},
   "source": [
    "### **Your Turn! Task 1:**\n",
    "\n",
    "Let's practice. Can you modify the code to show the **Top 5** most common species instead of the top 10? Copy the code from the cells above and make the necessary change."
   ]
  },
  {
   "cell_type": "code",
   "execution_count": null,
   "metadata": {},
   "outputs": [],
   "source": [
    "# YOUR CODE HERE\n",
    "# 1. Get the top 5 species\n",
    "top_5_species = ...\n",
    "\n",
    "# 2. Create the plot\n",
    "plt.figure(figsize=(12, 5))\n",
    "sns.barplot(x=top_5_species.values, y=top_5_species.index, palette='plasma') # Using a different palette!\n",
    "\n",
    "# 3. Add titles and labels\n",
    "plt.title('Top 5 Most Common Tree Species', fontsize=16)\n",
    "plt.xlabel('Number of Trees', fontsize=12)\n",
    "plt.ylabel('Tree Species', fontsize=12)\n",
    "\n",
    "# 4. Show the plot\n",
    "plt.show()"
   ]
  },
  {
   "cell_type": "markdown",
   "metadata": {},
   "source": [
    "## End of Part 2\n",
    "\n",
    "Fantastic! You've now created your first data visualization in Python. You can see how quickly we can go from raw data to a clear, informative chart.\n",
    "\n",
    "**In the next part, we'll learn about data cleaning by shortening those long tree names to make our plots even better!**"
   ]
  }
 ],
 "metadata": {
  "kernelspec": {
   "display_name": "Python 3",
   "language": "python",
   "name": "python3"
  },
  "language_info": {
   "codemirror_mode": {
    "name": "ipython",
    "version": 3
   },
   "file_extension": ".py",
   "mimetype": "text/x-python",
   "name": "python",
   "nbconvert_exporter": "python",
   "pygments_lexer": "ipython3",
   "version": "3.9.7"
  }
 },
 "nbformat": 4,
 "nbformat_minor": 2
}

